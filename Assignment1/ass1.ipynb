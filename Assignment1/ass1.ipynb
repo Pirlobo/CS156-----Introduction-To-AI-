{
 "cells": [
  {
   "cell_type": "code",
   "execution_count": 1,
   "metadata": {},
   "outputs": [
    {
     "data": {
      "text/latex": [
       "$\\displaystyle f(x) = 5x^3 - 20x + 2$"
      ],
      "text/plain": [
       "<IPython.core.display.Math object>"
      ]
     },
     "metadata": {},
     "output_type": "display_data"
    },
    {
     "name": "stdout",
     "output_type": "stream",
     "text": [
      "1 0.2985\n",
      "2 0.4851346625\n",
      "3 0.6498313163861517\n",
      "4 0.7864892054227278\n",
      "5 0.8937044148857568\n",
      "6 0.9738982777078129\n",
      "7 1.0316265994094762\n",
      "8 1.0719885833181022\n",
      "9 1.0996146549034493\n",
      "10 1.1182417965116846\n",
      "11 1.1306720891918327\n",
      "12 1.1389091832002192\n",
      "13 1.1443420640635507\n",
      "14 1.1479142501257664\n",
      "15 1.1502581812794963\n",
      "16 1.1517940987394342\n",
      "17 1.1527996518557864\n",
      "18 1.153457596257963\n",
      "19 1.1538879323031832\n",
      "20 1.1541693282559458\n",
      "21 1.1543533025129287\n",
      "22 1.154473570459553\n",
      "23 1.1545521867261088\n",
      "24 1.154603573945003\n",
      "25 1.1546371620000169\n",
      "26 1.154659115619299\n",
      "27 1.1546734646268877\n",
      "28 1.1546828431398686\n",
      "29 1.154688972903633\n",
      "30 1.1546929792818459\n",
      "31 1.1546955978214282\n",
      "32 1.1546973092772004\n",
      "33 1.1546984278693995\n",
      "34 1.15469915897079\n",
      "35 1.1546996368116125\n",
      "36 1.154699949123682\n",
      "37 1.154700153247747\n",
      "38 1.1547002866611915\n",
      "39 1.154700373858876\n",
      "40 1.1547004308504019\n",
      "41 1.1547004680994863\n",
      "42 1.1547004924451105\n",
      "43 1.1547005083571635\n",
      "44 1.1547005187571198\n",
      "45 1.1547005255544256\n",
      "46 1.1547005299970756\n",
      "47 1.1547005329007465\n",
      "48 1.1547005347985564\n",
      "49 1.1547005360389455\n",
      "50 1.1547005368496512\n",
      "The global minima occured at 1.1547005368496512\n"
     ]
    }
   ],
   "source": [
    "#import libraries\n",
    "import sympy as sym\n",
    "from IPython.display import display, Math\n",
    "\n",
    "x = sym.symbols(\"x\")\n",
    "\n",
    "# the given function --- f(x) = 5x^3 - 20x + 2\n",
    "func = 5*x**3 - 20*x + 2                    \n",
    "# print the function\n",
    "display(Math(r'f(x) = 5x^3 - 20x + 2'))     \n",
    "\n",
    "# derive the function\n",
    "deriv = sym.Derivative(func, x).doit()\n",
    "deriv = sym.lambdify(x, deriv, \"math\")\n",
    "\n",
    "# initialize the value of x\n",
    "cur_x = 0.1\n",
    "\n",
    "#precision\n",
    "precision_val = 0.000000001\n",
    "\n",
    "#number of iterations\n",
    "max_iter = 1000\n",
    "\n",
    "#initialize learning rate\n",
    "learning_rate = 0.01\n",
    "# initialize current iteration\n",
    "cur_iter = 0\n",
    "# initialize previous step size\n",
    "prev_step_size = 0.5\n",
    "\n",
    "while prev_step_size > precision_val and cur_iter < max_iter:\n",
    "    prev_x = cur_x\n",
    "    cur_x = cur_x - learning_rate * deriv(prev_x)\n",
    "    prev_step_size = abs(cur_x - prev_x)\n",
    "    cur_iter += 1\n",
    "    print(cur_iter, cur_x)\n",
    "    \n",
    "print(f\"The global minima occured at {cur_x}\")"
   ]
  }
 ],
 "metadata": {
  "interpreter": {
   "hash": "0600588c3b5f4418cbe7b5ebc6825b479f3bc010269d8b60d75058cdd010adfe"
  },
  "kernelspec": {
   "display_name": "Python 3.7.3 64-bit",
   "language": "python",
   "name": "python3"
  },
  "language_info": {
   "codemirror_mode": {
    "name": "ipython",
    "version": 3
   },
   "file_extension": ".py",
   "mimetype": "text/x-python",
   "name": "python",
   "nbconvert_exporter": "python",
   "pygments_lexer": "ipython3",
   "version": "3.7.3"
  },
  "orig_nbformat": 4
 },
 "nbformat": 4,
 "nbformat_minor": 2
}
