{
 "cells": [
  {
   "cell_type": "markdown",
   "metadata": {},
   "source": [
    "# <b>CS156 (Introduction to AI), Spring 2022</b>\n",
    "# <u><b>Homework 2 submission</b></u>"
   ]
  },
  {
   "cell_type": "markdown",
   "metadata": {},
   "source": [
    "### Roster Name: Anh Nguyen\n",
    "### Preferred Name (if different): N/A\n",
    "### Student ID: 015442011\n",
    "### Email address: anh.t.nguyen07@sjsu.edu\n",
    "Any special notes or anything you would like to communicate to me about this homework submission goes in here."
   ]
  },
  {
   "cell_type": "markdown",
   "metadata": {},
   "source": [
    "##  <u>References and sources </u>"
   ]
  },
  {
   "cell_type": "markdown",
   "metadata": {},
   "source": [
    "List all your references and sources here.\n",
    "This includes all sites/discussion boards/blogs/posts/etc. where you grabbed some code examples."
   ]
  },
  {
   "cell_type": "markdown",
   "metadata": {},
   "source": [
    "##  <u>Solution</u>"
   ]
  },
  {
   "cell_type": "markdown",
   "metadata": {},
   "source": [
    "#### Load libraries and set random number generator seed"
   ]
  },
  {
   "cell_type": "code",
   "execution_count": 1,
   "metadata": {},
   "outputs": [],
   "source": [
    "# Name : Anh Nguyen\n",
    "# Assignment : ass2\n",
    "# Due Date : 03/04/2022\n",
    "\n",
    "import pandas as pd\n",
    "import numpy as np\n",
    "import matplotlib.pyplot as plt\n",
    "import operator\n",
    "from sklearn.model_selection import train_test_split"
   ]
  },
  {
   "cell_type": "code",
   "execution_count": 2,
   "metadata": {},
   "outputs": [],
   "source": [
    "np.random.seed(42)"
   ]
  },
  {
   "cell_type": "markdown",
   "metadata": {},
   "source": [
    "#### Code the solution"
   ]
  },
  {
   "cell_type": "code",
   "execution_count": 3,
   "metadata": {},
   "outputs": [],
   "source": [
    "X, y = np.arange(10).reshape((5, 2)), range(5)\n",
    "X_train, X_test, y_train, y_test = train_test_split(X, y, test_size=0.1, random_state=42)\n",
    "\n",
    "np.random.seed(42) #Code B\n",
    "\n",
    "n = 100\n",
    "X1 = np.random.normal(loc=-2.0, scale=2.0, size=int(n/2))\n",
    "X2 = np.random.normal(loc=0.0, scale=1.0, size=int(n/2))\n",
    "\n",
    "Y1 = np.random.normal(loc=2.0, scale=2.0, size=int(n/2))\n",
    "Y2 = np.random.normal(loc=0.0, scale=1.0, size=int(n/2))\n",
    "\n",
    "X = np.concatenate((X1, Y1), axis=0)\n",
    "Y = np.concatenate((X2, Y2), axis=0)\n",
    "\n",
    "l1 = [0]*int(n/2)\n",
    "l2 = [1]*int(n/2)\n",
    "labels = l1+l2\n",
    "\n",
    "\n",
    "dt2D = pd.DataFrame({'X':X, 'Y':Y, 'Class':labels}, columns=['X','Y','Class'])\n",
    "dt2D.head()\n",
    "\n",
    "\n",
    "X_train2D, X_test2D, Y_train2D, Y_test2D = train_test_split(dt2D, labels, test_size=0.2, random_state=0)\n",
    "\n",
    "\n",
    "# X_train2D_x_coordinate_arr = []\n",
    "# X_train2D_y_coordinate_arr = []\n",
    "\n",
    "# for i in range(len(X_train2D)):\n",
    "#     X_train2D_x_coordinate_arr.append(X_train2D.iloc[i][0])\n",
    "#     X_train2D_y_coordinate_arr.append(X_train2D.iloc[i][1])\n",
    "\n",
    "\n",
    "n = 1000\n",
    "X1 = np.random.normal(loc=0.0 ,scale=3.0, size=int(n/4))\n",
    "X2 = np.random.normal(loc=-3.0 ,scale=1.0, size=int(n/4))\n",
    "X3 = np.random.normal(loc=-1.0 ,scale=1.0, size=int(n/4))\n",
    "\n",
    "Y1 = np.random.normal(loc=0.0, scale=3.0, size=int(n/4))\n",
    "Y2 = np.random.normal(loc=1.0, scale=2.0, size=int(n/4))\n",
    "Y3 = np.random.normal(loc=1.0, scale=1.0, size=int(n/4))\n",
    "\n",
    "Z1 = np.random.normal(loc=0.0, scale=3.0, size=int(n/4))\n",
    "Z2 = np.random.normal(loc=3.0, scale=1.0, size=int(n/4))\n",
    "Z3 = np.random.normal(loc=4.0, scale=1.0, size=int(n/4))\n",
    "\n",
    "W1 = np.random.normal(loc=0.0, scale=3.0, size=int(n/4))\n",
    "W2 = np.random.normal(loc=5.0, scale=4.0, size=int(n/4))\n",
    "W3 = np.random.normal(loc=-3.0, scale=1.0, size=int(n/4))\n",
    "\n",
    "X = np.concatenate((X1, Y1, Z1,W1), axis=0)\n",
    "Y = np.concatenate((X2, Y2, Z2, W2), axis=0)\n",
    "Z = np.concatenate((X3, Y3, Z3, W3), axis=0)\n",
    "\n",
    "l1 = [0]*int(n/4)\n",
    "l2 = [1]*int(n/4)\n",
    "l3 = [2]*int(n/4)\n",
    "l4 = [3]*int(n/4)\n",
    "labels = l1+l2+l3+l4\n",
    "\n",
    "dt3D = pd.DataFrame({'X':X, 'Y':Y, 'Z':Z, 'Class':labels}, columns=['X','Y', 'Z','Class'])\n",
    "dt3D.head()\n",
    "\n",
    "X_train3D, X_test3D, Y_train3D, Y_test3D = train_test_split(dt3D, labels, test_size=0.2, random_state=0)"
   ]
  },
  {
   "cell_type": "code",
   "execution_count": 4,
   "metadata": {},
   "outputs": [],
   "source": [
    "# calculate the distance between two points\n",
    "def distance(p1, p2):\n",
    "    temp = np.sum(np.square(p1-p2))\n",
    "    return (np.sqrt(temp))\n",
    "\n",
    "# KNN method\n",
    "def knn(newObservation, referenceData, k):\n",
    "    distances = []\n",
    "    for i in range(len(referenceData)):\n",
    "        dist = distance(newObservation[:-1], referenceData.iloc[i, :-1])\n",
    "        distances.append((referenceData.iloc[i], dist))\n",
    "    distances.sort(key = operator.itemgetter(1))\n",
    "    neighbors = []\n",
    "    for i in range(k):\n",
    "        neighbors.append(distances[i][0])\n",
    "    return neighbors\n",
    "\n",
    "# prediction\n",
    "def prediction(neighbors):\n",
    "    votes = {}\n",
    "    for neighbor in neighbors:\n",
    "        response = neighbor[-1]\n",
    "        if response in votes:\n",
    "            votes[response] += 1\n",
    "        else:\n",
    "            votes[response] = 1\n",
    "    sortedVotes = sorted(votes.items(), key = operator.itemgetter(1), reverse = True)\n",
    "    return sortedVotes[0][0]\n",
    "\n",
    "# calculate the accuracy in percentage\n",
    "def accuracy(actual, prediction):\n",
    "    correct = 0\n",
    "    for i in range(len(actual)):\n",
    "        if actual[i] == prediction[i]:\n",
    "            correct+=1\n",
    "    return correct/float(len(actual))*100.0\n",
    "\n",
    "# display the graph\n",
    "def display(X_test, X_train, Y_test, Y_train, predictions):\n",
    "    plt.subplot(1, 2, 1)\n",
    "    plt.scatter(X_train.iloc[:,0],X_train.iloc[:,1], s=25, c=Y_train, marker=\".\")\n",
    "    plt.scatter(X_test.iloc[:,0],X_test.iloc[:,1], s=50, c=Y_test, marker=\"v\")\n",
    "    plt.title(\"Actual labels\")\n",
    "\n",
    "    plt.subplot(1, 2, 2)\n",
    "    plt.title(\"Predicted labels\")\n",
    "    plt.scatter(X_train.iloc[:,0],X_train.iloc[:,1], s=25, c=Y_train, marker=\".\")\n",
    "    plt.scatter(X_test.iloc[:,0],X_test.iloc[:,1], s=50, c=predictions, marker=\"v\")\n",
    "\n",
    "    plt.tight_layout()\n",
    "    plt.show()"
   ]
  },
  {
   "cell_type": "code",
   "execution_count": 5,
   "metadata": {},
   "outputs": [
    {
     "name": "stdout",
     "output_type": "stream",
     "text": [
      "Prediction: 0  |  Actual: 0\n",
      "Prediction: 0  |  Actual: 1\n",
      "Prediction: 0  |  Actual: 0\n",
      "Prediction: 1  |  Actual: 1\n",
      "Prediction: 1  |  Actual: 1\n",
      "Prediction: 1  |  Actual: 1\n",
      "Prediction: 0  |  Actual: 0\n",
      "Prediction: 1  |  Actual: 1\n",
      "Prediction: 1  |  Actual: 1\n",
      "Prediction: 1  |  Actual: 1\n",
      "Prediction: 1  |  Actual: 1\n",
      "Prediction: 0  |  Actual: 1\n",
      "Prediction: 1  |  Actual: 1\n",
      "Prediction: 0  |  Actual: 0\n",
      "Prediction: 0  |  Actual: 0\n",
      "Prediction: 0  |  Actual: 0\n",
      "Prediction: 0  |  Actual: 0\n",
      "Prediction: 0  |  Actual: 0\n",
      "Prediction: 0  |  Actual: 0\n",
      "Prediction: 0  |  Actual: 0\n",
      "Acuracy in percentage : 90.0%\n"
     ]
    },
    {
     "data": {
      "image/png": "[encoded data removed]",
      "text/plain": [
       "<Figure size 432x288 with 2 Axes>"
      ]
     },
     "metadata": {
      "needs_background": "light"
     },
     "output_type": "display_data"
    }
   ],
   "source": [
    "def main(X_test, X_train, Y_test, Y_train):\n",
    "    predictions = []\n",
    "    for i in range(len(X_test)):\n",
    "        neighbors = knn(X_test.iloc[i], X_train, 3)\n",
    "        result = prediction(neighbors)\n",
    "        predictions.append(result)\n",
    "        print(\"Prediction: \" + repr(int(result)) + \"  |  Actual: \" + repr(Y_test[i]))\n",
    "    accuracyValue = accuracy(Y_test, predictions)\n",
    "    print(\"Acuracy in percentage : \" + str(accuracyValue) + \"%\")\n",
    "\n",
    "    display(X_test, X_train, Y_test, Y_train, predictions)\n",
    "    \n",
    "main(X_test2D, X_train2D, Y_test2D, Y_train2D)\n"
   ]
  },
  {
   "cell_type": "code",
   "execution_count": null,
   "metadata": {},
   "outputs": [],
   "source": []
  },
  {
   "cell_type": "code",
   "execution_count": null,
   "metadata": {},
   "outputs": [],
   "source": []
  },
  {
   "cell_type": "code",
   "execution_count": null,
   "metadata": {},
   "outputs": [],
   "source": []
  }
 ],
 "metadata": {
  "kernelspec": {
   "display_name": "Python 3",
   "language": "python",
   "name": "python3"
  },
  "language_info": {
   "codemirror_mode": {
    "name": "ipython",
    "version": 3
   },
   "file_extension": ".py",
   "mimetype": "text/x-python",
   "name": "python",
   "nbconvert_exporter": "python",
   "pygments_lexer": "ipython3",
   "version": "3.8.5"
  }
 },
 "nbformat": 4,
 "nbformat_minor": 4
}
